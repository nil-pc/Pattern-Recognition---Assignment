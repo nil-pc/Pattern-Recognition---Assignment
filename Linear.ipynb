{
  "nbformat": 4,
  "nbformat_minor": 0,
  "metadata": {
    "colab": {
      "name": "Linear.ipynb",
      "provenance": [],
      "collapsed_sections": [],
      "include_colab_link": true
    },
    "kernelspec": {
      "name": "python3",
      "display_name": "Python 3"
    }
  },
  "cells": [
    {
      "cell_type": "markdown",
      "metadata": {
        "id": "view-in-github",
        "colab_type": "text"
      },
      "source": [
        "<a href=\"https://colab.research.google.com/github/nil-pc/Pattern-Recognition---Assignment/blob/master/Linear.ipynb\" target=\"_parent\"><img src=\"https://colab.research.google.com/assets/colab-badge.svg\" alt=\"Open In Colab\"/></a>"
      ]
    },
    {
      "cell_type": "code",
      "metadata": {
        "id": "uHoBzZIpcxOM",
        "colab_type": "code",
        "colab": {}
      },
      "source": [
        "import pandas as pd\n",
        "import numpy as np\n",
        "from sklearn import preprocessing\n",
        "import matplotlib.pyplot as plt \n",
        "plt.rc(\"font\", size=14)\n",
        "from sklearn.model_selection import train_test_split\n",
        "from sklearn.pipeline import make_pipeline\n",
        "from sklearn import metrics\n",
        "import seaborn as sns\n",
        "sns.set(style=\"white\")\n",
        "sns.set(style=\"whitegrid\", color_codes=True)\n",
        "from sklearn import datasets, linear_model"
      ],
      "execution_count": 0,
      "outputs": []
    },
    {
      "cell_type": "code",
      "metadata": {
        "id": "CKwqQz-IdTz7",
        "colab_type": "code",
        "outputId": "b2f0439e-2862-4d08-f448-09d32582d378",
        "colab": {
          "base_uri": "https://localhost:8080/",
          "height": 73
        }
      },
      "source": [
        "data=pd.read_csv('bank-additional-full.csv',sep=';')\n",
        "data=data.dropna()\n",
        "print(data.shape)\n",
        "print(list(data.columns))"
      ],
      "execution_count": 0,
      "outputs": [
        {
          "output_type": "stream",
          "text": [
            "(41188, 21)\n",
            "['age', 'job', 'marital', 'education', 'default', 'housing', 'loan', 'contact', 'month', 'day_of_week', 'duration', 'campaign', 'pdays', 'previous', 'poutcome', 'emp.var.rate', 'cons.price.idx', 'cons.conf.idx', 'euribor3m', 'nr.employed', 'y']\n"
          ],
          "name": "stdout"
        }
      ]
    },
    {
      "cell_type": "code",
      "metadata": {
        "id": "p6Ko8uvxdcbq",
        "colab_type": "code",
        "outputId": "fbfd3fc9-32dc-408a-d05f-03975b26ef0a",
        "colab": {
          "base_uri": "https://localhost:8080/",
          "height": 255
        }
      },
      "source": [
        "data.head()"
      ],
      "execution_count": 0,
      "outputs": [
        {
          "output_type": "execute_result",
          "data": {
            "text/html": [
              "<div>\n",
              "<style scoped>\n",
              "    .dataframe tbody tr th:only-of-type {\n",
              "        vertical-align: middle;\n",
              "    }\n",
              "\n",
              "    .dataframe tbody tr th {\n",
              "        vertical-align: top;\n",
              "    }\n",
              "\n",
              "    .dataframe thead th {\n",
              "        text-align: right;\n",
              "    }\n",
              "</style>\n",
              "<table border=\"1\" class=\"dataframe\">\n",
              "  <thead>\n",
              "    <tr style=\"text-align: right;\">\n",
              "      <th></th>\n",
              "      <th>age</th>\n",
              "      <th>job</th>\n",
              "      <th>marital</th>\n",
              "      <th>education</th>\n",
              "      <th>default</th>\n",
              "      <th>housing</th>\n",
              "      <th>loan</th>\n",
              "      <th>contact</th>\n",
              "      <th>month</th>\n",
              "      <th>day_of_week</th>\n",
              "      <th>...</th>\n",
              "      <th>campaign</th>\n",
              "      <th>pdays</th>\n",
              "      <th>previous</th>\n",
              "      <th>poutcome</th>\n",
              "      <th>emp.var.rate</th>\n",
              "      <th>cons.price.idx</th>\n",
              "      <th>cons.conf.idx</th>\n",
              "      <th>euribor3m</th>\n",
              "      <th>nr.employed</th>\n",
              "      <th>y</th>\n",
              "    </tr>\n",
              "  </thead>\n",
              "  <tbody>\n",
              "    <tr>\n",
              "      <th>0</th>\n",
              "      <td>56</td>\n",
              "      <td>housemaid</td>\n",
              "      <td>married</td>\n",
              "      <td>basic.4y</td>\n",
              "      <td>no</td>\n",
              "      <td>no</td>\n",
              "      <td>no</td>\n",
              "      <td>telephone</td>\n",
              "      <td>may</td>\n",
              "      <td>mon</td>\n",
              "      <td>...</td>\n",
              "      <td>1</td>\n",
              "      <td>999</td>\n",
              "      <td>0</td>\n",
              "      <td>nonexistent</td>\n",
              "      <td>1.1</td>\n",
              "      <td>93.994</td>\n",
              "      <td>-36.4</td>\n",
              "      <td>4.857</td>\n",
              "      <td>5191.0</td>\n",
              "      <td>no</td>\n",
              "    </tr>\n",
              "    <tr>\n",
              "      <th>1</th>\n",
              "      <td>57</td>\n",
              "      <td>services</td>\n",
              "      <td>married</td>\n",
              "      <td>high.school</td>\n",
              "      <td>unknown</td>\n",
              "      <td>no</td>\n",
              "      <td>no</td>\n",
              "      <td>telephone</td>\n",
              "      <td>may</td>\n",
              "      <td>mon</td>\n",
              "      <td>...</td>\n",
              "      <td>1</td>\n",
              "      <td>999</td>\n",
              "      <td>0</td>\n",
              "      <td>nonexistent</td>\n",
              "      <td>1.1</td>\n",
              "      <td>93.994</td>\n",
              "      <td>-36.4</td>\n",
              "      <td>4.857</td>\n",
              "      <td>5191.0</td>\n",
              "      <td>no</td>\n",
              "    </tr>\n",
              "    <tr>\n",
              "      <th>2</th>\n",
              "      <td>37</td>\n",
              "      <td>services</td>\n",
              "      <td>married</td>\n",
              "      <td>high.school</td>\n",
              "      <td>no</td>\n",
              "      <td>yes</td>\n",
              "      <td>no</td>\n",
              "      <td>telephone</td>\n",
              "      <td>may</td>\n",
              "      <td>mon</td>\n",
              "      <td>...</td>\n",
              "      <td>1</td>\n",
              "      <td>999</td>\n",
              "      <td>0</td>\n",
              "      <td>nonexistent</td>\n",
              "      <td>1.1</td>\n",
              "      <td>93.994</td>\n",
              "      <td>-36.4</td>\n",
              "      <td>4.857</td>\n",
              "      <td>5191.0</td>\n",
              "      <td>no</td>\n",
              "    </tr>\n",
              "    <tr>\n",
              "      <th>3</th>\n",
              "      <td>40</td>\n",
              "      <td>admin.</td>\n",
              "      <td>married</td>\n",
              "      <td>basic.6y</td>\n",
              "      <td>no</td>\n",
              "      <td>no</td>\n",
              "      <td>no</td>\n",
              "      <td>telephone</td>\n",
              "      <td>may</td>\n",
              "      <td>mon</td>\n",
              "      <td>...</td>\n",
              "      <td>1</td>\n",
              "      <td>999</td>\n",
              "      <td>0</td>\n",
              "      <td>nonexistent</td>\n",
              "      <td>1.1</td>\n",
              "      <td>93.994</td>\n",
              "      <td>-36.4</td>\n",
              "      <td>4.857</td>\n",
              "      <td>5191.0</td>\n",
              "      <td>no</td>\n",
              "    </tr>\n",
              "    <tr>\n",
              "      <th>4</th>\n",
              "      <td>56</td>\n",
              "      <td>services</td>\n",
              "      <td>married</td>\n",
              "      <td>high.school</td>\n",
              "      <td>no</td>\n",
              "      <td>no</td>\n",
              "      <td>yes</td>\n",
              "      <td>telephone</td>\n",
              "      <td>may</td>\n",
              "      <td>mon</td>\n",
              "      <td>...</td>\n",
              "      <td>1</td>\n",
              "      <td>999</td>\n",
              "      <td>0</td>\n",
              "      <td>nonexistent</td>\n",
              "      <td>1.1</td>\n",
              "      <td>93.994</td>\n",
              "      <td>-36.4</td>\n",
              "      <td>4.857</td>\n",
              "      <td>5191.0</td>\n",
              "      <td>no</td>\n",
              "    </tr>\n",
              "  </tbody>\n",
              "</table>\n",
              "<p>5 rows × 21 columns</p>\n",
              "</div>"
            ],
            "text/plain": [
              "   age        job  marital    education  default housing loan    contact  \\\n",
              "0   56  housemaid  married     basic.4y       no      no   no  telephone   \n",
              "1   57   services  married  high.school  unknown      no   no  telephone   \n",
              "2   37   services  married  high.school       no     yes   no  telephone   \n",
              "3   40     admin.  married     basic.6y       no      no   no  telephone   \n",
              "4   56   services  married  high.school       no      no  yes  telephone   \n",
              "\n",
              "  month day_of_week ...  campaign  pdays  previous     poutcome emp.var.rate  \\\n",
              "0   may         mon ...         1    999         0  nonexistent          1.1   \n",
              "1   may         mon ...         1    999         0  nonexistent          1.1   \n",
              "2   may         mon ...         1    999         0  nonexistent          1.1   \n",
              "3   may         mon ...         1    999         0  nonexistent          1.1   \n",
              "4   may         mon ...         1    999         0  nonexistent          1.1   \n",
              "\n",
              "   cons.price.idx  cons.conf.idx  euribor3m  nr.employed   y  \n",
              "0          93.994          -36.4      4.857       5191.0  no  \n",
              "1          93.994          -36.4      4.857       5191.0  no  \n",
              "2          93.994          -36.4      4.857       5191.0  no  \n",
              "3          93.994          -36.4      4.857       5191.0  no  \n",
              "4          93.994          -36.4      4.857       5191.0  no  \n",
              "\n",
              "[5 rows x 21 columns]"
            ]
          },
          "metadata": {
            "tags": []
          },
          "execution_count": 529
        }
      ]
    },
    {
      "cell_type": "code",
      "metadata": {
        "id": "HmfeqAwidftt",
        "colab_type": "code",
        "outputId": "eb1308ba-31e9-4b85-8dab-60cbfb62aa7e",
        "colab": {
          "base_uri": "https://localhost:8080/",
          "height": 72
        }
      },
      "source": [
        "data['education'].unique()"
      ],
      "execution_count": 0,
      "outputs": [
        {
          "output_type": "execute_result",
          "data": {
            "text/plain": [
              "array(['basic.4y', 'high.school', 'basic.6y', 'basic.9y',\n",
              "       'professional.course', 'unknown', 'university.degree',\n",
              "       'illiterate'], dtype=object)"
            ]
          },
          "metadata": {
            "tags": []
          },
          "execution_count": 530
        }
      ]
    },
    {
      "cell_type": "code",
      "metadata": {
        "id": "VFCVOC86dkKX",
        "colab_type": "code",
        "colab": {}
      },
      "source": [
        "data['education']=np.where(data['education'] =='basic.9y', 'Basic', data['education'])\n",
        "data['education']=np.where(data['education'] =='basic.6y', 'Basic', data['education'])\n",
        "data['education']=np.where(data['education'] =='basic.4y', 'Basic', data['education'])"
      ],
      "execution_count": 0,
      "outputs": []
    },
    {
      "cell_type": "code",
      "metadata": {
        "id": "X3jrMRExdl5J",
        "colab_type": "code",
        "outputId": "5028e1b0-832d-4d66-e7b5-518d6c2ccfbd",
        "colab": {
          "base_uri": "https://localhost:8080/",
          "height": 53
        }
      },
      "source": [
        "data['education'].unique()"
      ],
      "execution_count": 0,
      "outputs": [
        {
          "output_type": "execute_result",
          "data": {
            "text/plain": [
              "array(['Basic', 'high.school', 'professional.course', 'unknown',\n",
              "       'university.degree', 'illiterate'], dtype=object)"
            ]
          },
          "metadata": {
            "tags": []
          },
          "execution_count": 532
        }
      ]
    },
    {
      "cell_type": "code",
      "metadata": {
        "id": "nv2JQxhadnNW",
        "colab_type": "code",
        "outputId": "97350236-1aa1-4223-fe07-70e897917622",
        "colab": {
          "base_uri": "https://localhost:8080/",
          "height": 143
        }
      },
      "source": [
        "data.groupby('y').mean()"
      ],
      "execution_count": 0,
      "outputs": [
        {
          "output_type": "execute_result",
          "data": {
            "text/html": [
              "<div>\n",
              "<style scoped>\n",
              "    .dataframe tbody tr th:only-of-type {\n",
              "        vertical-align: middle;\n",
              "    }\n",
              "\n",
              "    .dataframe tbody tr th {\n",
              "        vertical-align: top;\n",
              "    }\n",
              "\n",
              "    .dataframe thead th {\n",
              "        text-align: right;\n",
              "    }\n",
              "</style>\n",
              "<table border=\"1\" class=\"dataframe\">\n",
              "  <thead>\n",
              "    <tr style=\"text-align: right;\">\n",
              "      <th></th>\n",
              "      <th>age</th>\n",
              "      <th>duration</th>\n",
              "      <th>campaign</th>\n",
              "      <th>pdays</th>\n",
              "      <th>previous</th>\n",
              "      <th>emp.var.rate</th>\n",
              "      <th>cons.price.idx</th>\n",
              "      <th>cons.conf.idx</th>\n",
              "      <th>euribor3m</th>\n",
              "      <th>nr.employed</th>\n",
              "    </tr>\n",
              "    <tr>\n",
              "      <th>y</th>\n",
              "      <th></th>\n",
              "      <th></th>\n",
              "      <th></th>\n",
              "      <th></th>\n",
              "      <th></th>\n",
              "      <th></th>\n",
              "      <th></th>\n",
              "      <th></th>\n",
              "      <th></th>\n",
              "      <th></th>\n",
              "    </tr>\n",
              "  </thead>\n",
              "  <tbody>\n",
              "    <tr>\n",
              "      <th>no</th>\n",
              "      <td>39.911185</td>\n",
              "      <td>220.844807</td>\n",
              "      <td>2.633085</td>\n",
              "      <td>984.113878</td>\n",
              "      <td>0.132374</td>\n",
              "      <td>0.248875</td>\n",
              "      <td>93.603757</td>\n",
              "      <td>-40.593097</td>\n",
              "      <td>3.811491</td>\n",
              "      <td>5176.166600</td>\n",
              "    </tr>\n",
              "    <tr>\n",
              "      <th>yes</th>\n",
              "      <td>40.913147</td>\n",
              "      <td>553.191164</td>\n",
              "      <td>2.051724</td>\n",
              "      <td>792.035560</td>\n",
              "      <td>0.492672</td>\n",
              "      <td>-1.233448</td>\n",
              "      <td>93.354386</td>\n",
              "      <td>-39.789784</td>\n",
              "      <td>2.123135</td>\n",
              "      <td>5095.115991</td>\n",
              "    </tr>\n",
              "  </tbody>\n",
              "</table>\n",
              "</div>"
            ],
            "text/plain": [
              "           age    duration  campaign       pdays  previous  emp.var.rate  \\\n",
              "y                                                                          \n",
              "no   39.911185  220.844807  2.633085  984.113878  0.132374      0.248875   \n",
              "yes  40.913147  553.191164  2.051724  792.035560  0.492672     -1.233448   \n",
              "\n",
              "     cons.price.idx  cons.conf.idx  euribor3m  nr.employed  \n",
              "y                                                           \n",
              "no        93.603757     -40.593097   3.811491  5176.166600  \n",
              "yes       93.354386     -39.789784   2.123135  5095.115991  "
            ]
          },
          "metadata": {
            "tags": []
          },
          "execution_count": 533
        }
      ]
    },
    {
      "cell_type": "code",
      "metadata": {
        "id": "DiyXVkxfdwTE",
        "colab_type": "code",
        "outputId": "03cb7a11-891b-4819-9048-425f5a3c4e6b",
        "colab": {
          "base_uri": "https://localhost:8080/",
          "height": 494
        }
      },
      "source": [
        "data.groupby('job').mean()"
      ],
      "execution_count": 0,
      "outputs": [
        {
          "output_type": "execute_result",
          "data": {
            "text/html": [
              "<div>\n",
              "<style scoped>\n",
              "    .dataframe tbody tr th:only-of-type {\n",
              "        vertical-align: middle;\n",
              "    }\n",
              "\n",
              "    .dataframe tbody tr th {\n",
              "        vertical-align: top;\n",
              "    }\n",
              "\n",
              "    .dataframe thead th {\n",
              "        text-align: right;\n",
              "    }\n",
              "</style>\n",
              "<table border=\"1\" class=\"dataframe\">\n",
              "  <thead>\n",
              "    <tr style=\"text-align: right;\">\n",
              "      <th></th>\n",
              "      <th>age</th>\n",
              "      <th>duration</th>\n",
              "      <th>campaign</th>\n",
              "      <th>pdays</th>\n",
              "      <th>previous</th>\n",
              "      <th>emp.var.rate</th>\n",
              "      <th>cons.price.idx</th>\n",
              "      <th>cons.conf.idx</th>\n",
              "      <th>euribor3m</th>\n",
              "      <th>nr.employed</th>\n",
              "    </tr>\n",
              "    <tr>\n",
              "      <th>job</th>\n",
              "      <th></th>\n",
              "      <th></th>\n",
              "      <th></th>\n",
              "      <th></th>\n",
              "      <th></th>\n",
              "      <th></th>\n",
              "      <th></th>\n",
              "      <th></th>\n",
              "      <th></th>\n",
              "      <th></th>\n",
              "    </tr>\n",
              "  </thead>\n",
              "  <tbody>\n",
              "    <tr>\n",
              "      <th>admin.</th>\n",
              "      <td>38.187296</td>\n",
              "      <td>254.312128</td>\n",
              "      <td>2.623489</td>\n",
              "      <td>954.319229</td>\n",
              "      <td>0.189023</td>\n",
              "      <td>0.015563</td>\n",
              "      <td>93.534054</td>\n",
              "      <td>-40.245433</td>\n",
              "      <td>3.550274</td>\n",
              "      <td>5164.125350</td>\n",
              "    </tr>\n",
              "    <tr>\n",
              "      <th>blue-collar</th>\n",
              "      <td>39.555760</td>\n",
              "      <td>264.542360</td>\n",
              "      <td>2.558461</td>\n",
              "      <td>985.160363</td>\n",
              "      <td>0.122542</td>\n",
              "      <td>0.248995</td>\n",
              "      <td>93.656656</td>\n",
              "      <td>-41.375816</td>\n",
              "      <td>3.771996</td>\n",
              "      <td>5175.615150</td>\n",
              "    </tr>\n",
              "    <tr>\n",
              "      <th>entrepreneur</th>\n",
              "      <td>41.723214</td>\n",
              "      <td>263.267857</td>\n",
              "      <td>2.535714</td>\n",
              "      <td>981.267170</td>\n",
              "      <td>0.138736</td>\n",
              "      <td>0.158723</td>\n",
              "      <td>93.605372</td>\n",
              "      <td>-41.283654</td>\n",
              "      <td>3.791120</td>\n",
              "      <td>5176.313530</td>\n",
              "    </tr>\n",
              "    <tr>\n",
              "      <th>housemaid</th>\n",
              "      <td>45.500000</td>\n",
              "      <td>250.454717</td>\n",
              "      <td>2.639623</td>\n",
              "      <td>960.579245</td>\n",
              "      <td>0.137736</td>\n",
              "      <td>0.433396</td>\n",
              "      <td>93.676576</td>\n",
              "      <td>-39.495283</td>\n",
              "      <td>4.009645</td>\n",
              "      <td>5179.529623</td>\n",
              "    </tr>\n",
              "    <tr>\n",
              "      <th>management</th>\n",
              "      <td>42.362859</td>\n",
              "      <td>257.058140</td>\n",
              "      <td>2.476060</td>\n",
              "      <td>962.647059</td>\n",
              "      <td>0.185021</td>\n",
              "      <td>-0.012688</td>\n",
              "      <td>93.522755</td>\n",
              "      <td>-40.489466</td>\n",
              "      <td>3.611316</td>\n",
              "      <td>5166.650513</td>\n",
              "    </tr>\n",
              "    <tr>\n",
              "      <th>retired</th>\n",
              "      <td>62.027326</td>\n",
              "      <td>273.712209</td>\n",
              "      <td>2.476744</td>\n",
              "      <td>897.936047</td>\n",
              "      <td>0.327326</td>\n",
              "      <td>-0.698314</td>\n",
              "      <td>93.430786</td>\n",
              "      <td>-38.573081</td>\n",
              "      <td>2.770066</td>\n",
              "      <td>5122.262151</td>\n",
              "    </tr>\n",
              "    <tr>\n",
              "      <th>self-employed</th>\n",
              "      <td>39.949331</td>\n",
              "      <td>264.142153</td>\n",
              "      <td>2.660802</td>\n",
              "      <td>976.621393</td>\n",
              "      <td>0.143561</td>\n",
              "      <td>0.094159</td>\n",
              "      <td>93.559982</td>\n",
              "      <td>-40.488107</td>\n",
              "      <td>3.689376</td>\n",
              "      <td>5170.674384</td>\n",
              "    </tr>\n",
              "    <tr>\n",
              "      <th>services</th>\n",
              "      <td>37.926430</td>\n",
              "      <td>258.398085</td>\n",
              "      <td>2.587805</td>\n",
              "      <td>979.974049</td>\n",
              "      <td>0.154951</td>\n",
              "      <td>0.175359</td>\n",
              "      <td>93.634659</td>\n",
              "      <td>-41.290048</td>\n",
              "      <td>3.699187</td>\n",
              "      <td>5171.600126</td>\n",
              "    </tr>\n",
              "    <tr>\n",
              "      <th>student</th>\n",
              "      <td>25.894857</td>\n",
              "      <td>283.683429</td>\n",
              "      <td>2.104000</td>\n",
              "      <td>840.217143</td>\n",
              "      <td>0.524571</td>\n",
              "      <td>-1.408000</td>\n",
              "      <td>93.331613</td>\n",
              "      <td>-40.187543</td>\n",
              "      <td>1.884224</td>\n",
              "      <td>5085.939086</td>\n",
              "    </tr>\n",
              "    <tr>\n",
              "      <th>technician</th>\n",
              "      <td>38.507638</td>\n",
              "      <td>250.232241</td>\n",
              "      <td>2.577339</td>\n",
              "      <td>964.408127</td>\n",
              "      <td>0.153789</td>\n",
              "      <td>0.274566</td>\n",
              "      <td>93.561471</td>\n",
              "      <td>-39.927569</td>\n",
              "      <td>3.820401</td>\n",
              "      <td>5175.648391</td>\n",
              "    </tr>\n",
              "    <tr>\n",
              "      <th>unemployed</th>\n",
              "      <td>39.733728</td>\n",
              "      <td>249.451677</td>\n",
              "      <td>2.564103</td>\n",
              "      <td>935.316568</td>\n",
              "      <td>0.199211</td>\n",
              "      <td>-0.111736</td>\n",
              "      <td>93.563781</td>\n",
              "      <td>-40.007594</td>\n",
              "      <td>3.466583</td>\n",
              "      <td>5157.156509</td>\n",
              "    </tr>\n",
              "    <tr>\n",
              "      <th>unknown</th>\n",
              "      <td>45.563636</td>\n",
              "      <td>239.675758</td>\n",
              "      <td>2.648485</td>\n",
              "      <td>938.727273</td>\n",
              "      <td>0.154545</td>\n",
              "      <td>0.357879</td>\n",
              "      <td>93.718942</td>\n",
              "      <td>-38.797879</td>\n",
              "      <td>3.949033</td>\n",
              "      <td>5172.931818</td>\n",
              "    </tr>\n",
              "  </tbody>\n",
              "</table>\n",
              "</div>"
            ],
            "text/plain": [
              "                     age    duration  campaign       pdays  previous  \\\n",
              "job                                                                    \n",
              "admin.         38.187296  254.312128  2.623489  954.319229  0.189023   \n",
              "blue-collar    39.555760  264.542360  2.558461  985.160363  0.122542   \n",
              "entrepreneur   41.723214  263.267857  2.535714  981.267170  0.138736   \n",
              "housemaid      45.500000  250.454717  2.639623  960.579245  0.137736   \n",
              "management     42.362859  257.058140  2.476060  962.647059  0.185021   \n",
              "retired        62.027326  273.712209  2.476744  897.936047  0.327326   \n",
              "self-employed  39.949331  264.142153  2.660802  976.621393  0.143561   \n",
              "services       37.926430  258.398085  2.587805  979.974049  0.154951   \n",
              "student        25.894857  283.683429  2.104000  840.217143  0.524571   \n",
              "technician     38.507638  250.232241  2.577339  964.408127  0.153789   \n",
              "unemployed     39.733728  249.451677  2.564103  935.316568  0.199211   \n",
              "unknown        45.563636  239.675758  2.648485  938.727273  0.154545   \n",
              "\n",
              "               emp.var.rate  cons.price.idx  cons.conf.idx  euribor3m  \\\n",
              "job                                                                     \n",
              "admin.             0.015563       93.534054     -40.245433   3.550274   \n",
              "blue-collar        0.248995       93.656656     -41.375816   3.771996   \n",
              "entrepreneur       0.158723       93.605372     -41.283654   3.791120   \n",
              "housemaid          0.433396       93.676576     -39.495283   4.009645   \n",
              "management        -0.012688       93.522755     -40.489466   3.611316   \n",
              "retired           -0.698314       93.430786     -38.573081   2.770066   \n",
              "self-employed      0.094159       93.559982     -40.488107   3.689376   \n",
              "services           0.175359       93.634659     -41.290048   3.699187   \n",
              "student           -1.408000       93.331613     -40.187543   1.884224   \n",
              "technician         0.274566       93.561471     -39.927569   3.820401   \n",
              "unemployed        -0.111736       93.563781     -40.007594   3.466583   \n",
              "unknown            0.357879       93.718942     -38.797879   3.949033   \n",
              "\n",
              "               nr.employed  \n",
              "job                         \n",
              "admin.         5164.125350  \n",
              "blue-collar    5175.615150  \n",
              "entrepreneur   5176.313530  \n",
              "housemaid      5179.529623  \n",
              "management     5166.650513  \n",
              "retired        5122.262151  \n",
              "self-employed  5170.674384  \n",
              "services       5171.600126  \n",
              "student        5085.939086  \n",
              "technician     5175.648391  \n",
              "unemployed     5157.156509  \n",
              "unknown        5172.931818  "
            ]
          },
          "metadata": {
            "tags": []
          },
          "execution_count": 534
        }
      ]
    },
    {
      "cell_type": "code",
      "metadata": {
        "id": "Bvz3Dwe3d0md",
        "colab_type": "code",
        "outputId": "bc40a88a-3aea-4288-df0f-b3a612a2b567",
        "colab": {
          "base_uri": "https://localhost:8080/",
          "height": 206
        }
      },
      "source": [
        "data.groupby('marital').mean()"
      ],
      "execution_count": 0,
      "outputs": [
        {
          "output_type": "execute_result",
          "data": {
            "text/html": [
              "<div>\n",
              "<style scoped>\n",
              "    .dataframe tbody tr th:only-of-type {\n",
              "        vertical-align: middle;\n",
              "    }\n",
              "\n",
              "    .dataframe tbody tr th {\n",
              "        vertical-align: top;\n",
              "    }\n",
              "\n",
              "    .dataframe thead th {\n",
              "        text-align: right;\n",
              "    }\n",
              "</style>\n",
              "<table border=\"1\" class=\"dataframe\">\n",
              "  <thead>\n",
              "    <tr style=\"text-align: right;\">\n",
              "      <th></th>\n",
              "      <th>age</th>\n",
              "      <th>duration</th>\n",
              "      <th>campaign</th>\n",
              "      <th>pdays</th>\n",
              "      <th>previous</th>\n",
              "      <th>emp.var.rate</th>\n",
              "      <th>cons.price.idx</th>\n",
              "      <th>cons.conf.idx</th>\n",
              "      <th>euribor3m</th>\n",
              "      <th>nr.employed</th>\n",
              "    </tr>\n",
              "    <tr>\n",
              "      <th>marital</th>\n",
              "      <th></th>\n",
              "      <th></th>\n",
              "      <th></th>\n",
              "      <th></th>\n",
              "      <th></th>\n",
              "      <th></th>\n",
              "      <th></th>\n",
              "      <th></th>\n",
              "      <th></th>\n",
              "      <th></th>\n",
              "    </tr>\n",
              "  </thead>\n",
              "  <tbody>\n",
              "    <tr>\n",
              "      <th>divorced</th>\n",
              "      <td>44.899393</td>\n",
              "      <td>253.790330</td>\n",
              "      <td>2.61340</td>\n",
              "      <td>968.639853</td>\n",
              "      <td>0.168690</td>\n",
              "      <td>0.163985</td>\n",
              "      <td>93.606563</td>\n",
              "      <td>-40.707069</td>\n",
              "      <td>3.715603</td>\n",
              "      <td>5170.878643</td>\n",
              "    </tr>\n",
              "    <tr>\n",
              "      <th>married</th>\n",
              "      <td>42.307165</td>\n",
              "      <td>257.438623</td>\n",
              "      <td>2.57281</td>\n",
              "      <td>967.247673</td>\n",
              "      <td>0.155608</td>\n",
              "      <td>0.183625</td>\n",
              "      <td>93.597367</td>\n",
              "      <td>-40.270659</td>\n",
              "      <td>3.745832</td>\n",
              "      <td>5171.848772</td>\n",
              "    </tr>\n",
              "    <tr>\n",
              "      <th>single</th>\n",
              "      <td>33.158714</td>\n",
              "      <td>261.524378</td>\n",
              "      <td>2.53380</td>\n",
              "      <td>949.909578</td>\n",
              "      <td>0.211359</td>\n",
              "      <td>-0.167989</td>\n",
              "      <td>93.517300</td>\n",
              "      <td>-40.918698</td>\n",
              "      <td>3.317447</td>\n",
              "      <td>5155.199265</td>\n",
              "    </tr>\n",
              "    <tr>\n",
              "      <th>unknown</th>\n",
              "      <td>40.275000</td>\n",
              "      <td>312.725000</td>\n",
              "      <td>3.18750</td>\n",
              "      <td>937.100000</td>\n",
              "      <td>0.275000</td>\n",
              "      <td>-0.221250</td>\n",
              "      <td>93.471250</td>\n",
              "      <td>-40.820000</td>\n",
              "      <td>3.313037</td>\n",
              "      <td>5157.393750</td>\n",
              "    </tr>\n",
              "  </tbody>\n",
              "</table>\n",
              "</div>"
            ],
            "text/plain": [
              "                age    duration  campaign       pdays  previous  emp.var.rate  \\\n",
              "marital                                                                         \n",
              "divorced  44.899393  253.790330   2.61340  968.639853  0.168690      0.163985   \n",
              "married   42.307165  257.438623   2.57281  967.247673  0.155608      0.183625   \n",
              "single    33.158714  261.524378   2.53380  949.909578  0.211359     -0.167989   \n",
              "unknown   40.275000  312.725000   3.18750  937.100000  0.275000     -0.221250   \n",
              "\n",
              "          cons.price.idx  cons.conf.idx  euribor3m  nr.employed  \n",
              "marital                                                          \n",
              "divorced       93.606563     -40.707069   3.715603  5170.878643  \n",
              "married        93.597367     -40.270659   3.745832  5171.848772  \n",
              "single         93.517300     -40.918698   3.317447  5155.199265  \n",
              "unknown        93.471250     -40.820000   3.313037  5157.393750  "
            ]
          },
          "metadata": {
            "tags": []
          },
          "execution_count": 535
        }
      ]
    },
    {
      "cell_type": "code",
      "metadata": {
        "id": "f5W49XrEd5iA",
        "colab_type": "code",
        "outputId": "a2a05336-dca8-4b35-86b6-72b883fa88c0",
        "colab": {
          "base_uri": "https://localhost:8080/",
          "height": 289
        }
      },
      "source": [
        "data.groupby('education').mean()"
      ],
      "execution_count": 0,
      "outputs": [
        {
          "output_type": "execute_result",
          "data": {
            "text/html": [
              "<div>\n",
              "<style scoped>\n",
              "    .dataframe tbody tr th:only-of-type {\n",
              "        vertical-align: middle;\n",
              "    }\n",
              "\n",
              "    .dataframe tbody tr th {\n",
              "        vertical-align: top;\n",
              "    }\n",
              "\n",
              "    .dataframe thead th {\n",
              "        text-align: right;\n",
              "    }\n",
              "</style>\n",
              "<table border=\"1\" class=\"dataframe\">\n",
              "  <thead>\n",
              "    <tr style=\"text-align: right;\">\n",
              "      <th></th>\n",
              "      <th>age</th>\n",
              "      <th>duration</th>\n",
              "      <th>campaign</th>\n",
              "      <th>pdays</th>\n",
              "      <th>previous</th>\n",
              "      <th>emp.var.rate</th>\n",
              "      <th>cons.price.idx</th>\n",
              "      <th>cons.conf.idx</th>\n",
              "      <th>euribor3m</th>\n",
              "      <th>nr.employed</th>\n",
              "    </tr>\n",
              "    <tr>\n",
              "      <th>education</th>\n",
              "      <th></th>\n",
              "      <th></th>\n",
              "      <th></th>\n",
              "      <th></th>\n",
              "      <th></th>\n",
              "      <th></th>\n",
              "      <th></th>\n",
              "      <th></th>\n",
              "      <th></th>\n",
              "      <th></th>\n",
              "    </tr>\n",
              "  </thead>\n",
              "  <tbody>\n",
              "    <tr>\n",
              "      <th>Basic</th>\n",
              "      <td>42.163910</td>\n",
              "      <td>263.043874</td>\n",
              "      <td>2.559498</td>\n",
              "      <td>974.877967</td>\n",
              "      <td>0.141053</td>\n",
              "      <td>0.191329</td>\n",
              "      <td>93.639933</td>\n",
              "      <td>-40.927595</td>\n",
              "      <td>3.729654</td>\n",
              "      <td>5172.014113</td>\n",
              "    </tr>\n",
              "    <tr>\n",
              "      <th>high.school</th>\n",
              "      <td>37.998213</td>\n",
              "      <td>260.886810</td>\n",
              "      <td>2.568576</td>\n",
              "      <td>964.358382</td>\n",
              "      <td>0.185917</td>\n",
              "      <td>0.032937</td>\n",
              "      <td>93.584857</td>\n",
              "      <td>-40.940641</td>\n",
              "      <td>3.556157</td>\n",
              "      <td>5164.994735</td>\n",
              "    </tr>\n",
              "    <tr>\n",
              "      <th>illiterate</th>\n",
              "      <td>48.500000</td>\n",
              "      <td>276.777778</td>\n",
              "      <td>2.277778</td>\n",
              "      <td>943.833333</td>\n",
              "      <td>0.111111</td>\n",
              "      <td>-0.133333</td>\n",
              "      <td>93.317333</td>\n",
              "      <td>-39.950000</td>\n",
              "      <td>3.516556</td>\n",
              "      <td>5171.777778</td>\n",
              "    </tr>\n",
              "    <tr>\n",
              "      <th>professional.course</th>\n",
              "      <td>40.080107</td>\n",
              "      <td>252.533855</td>\n",
              "      <td>2.586115</td>\n",
              "      <td>960.765974</td>\n",
              "      <td>0.163075</td>\n",
              "      <td>0.173012</td>\n",
              "      <td>93.569864</td>\n",
              "      <td>-40.124108</td>\n",
              "      <td>3.710457</td>\n",
              "      <td>5170.155979</td>\n",
              "    </tr>\n",
              "    <tr>\n",
              "      <th>university.degree</th>\n",
              "      <td>38.879191</td>\n",
              "      <td>253.223373</td>\n",
              "      <td>2.563527</td>\n",
              "      <td>951.807692</td>\n",
              "      <td>0.192390</td>\n",
              "      <td>-0.028090</td>\n",
              "      <td>93.493466</td>\n",
              "      <td>-39.975805</td>\n",
              "      <td>3.529663</td>\n",
              "      <td>5163.226298</td>\n",
              "    </tr>\n",
              "    <tr>\n",
              "      <th>unknown</th>\n",
              "      <td>43.481225</td>\n",
              "      <td>262.390526</td>\n",
              "      <td>2.596187</td>\n",
              "      <td>942.830734</td>\n",
              "      <td>0.226459</td>\n",
              "      <td>0.059099</td>\n",
              "      <td>93.658615</td>\n",
              "      <td>-39.877816</td>\n",
              "      <td>3.571098</td>\n",
              "      <td>5159.549509</td>\n",
              "    </tr>\n",
              "  </tbody>\n",
              "</table>\n",
              "</div>"
            ],
            "text/plain": [
              "                           age    duration  campaign       pdays  previous  \\\n",
              "education                                                                    \n",
              "Basic                42.163910  263.043874  2.559498  974.877967  0.141053   \n",
              "high.school          37.998213  260.886810  2.568576  964.358382  0.185917   \n",
              "illiterate           48.500000  276.777778  2.277778  943.833333  0.111111   \n",
              "professional.course  40.080107  252.533855  2.586115  960.765974  0.163075   \n",
              "university.degree    38.879191  253.223373  2.563527  951.807692  0.192390   \n",
              "unknown              43.481225  262.390526  2.596187  942.830734  0.226459   \n",
              "\n",
              "                     emp.var.rate  cons.price.idx  cons.conf.idx  euribor3m  \\\n",
              "education                                                                     \n",
              "Basic                    0.191329       93.639933     -40.927595   3.729654   \n",
              "high.school              0.032937       93.584857     -40.940641   3.556157   \n",
              "illiterate              -0.133333       93.317333     -39.950000   3.516556   \n",
              "professional.course      0.173012       93.569864     -40.124108   3.710457   \n",
              "university.degree       -0.028090       93.493466     -39.975805   3.529663   \n",
              "unknown                  0.059099       93.658615     -39.877816   3.571098   \n",
              "\n",
              "                     nr.employed  \n",
              "education                         \n",
              "Basic                5172.014113  \n",
              "high.school          5164.994735  \n",
              "illiterate           5171.777778  \n",
              "professional.course  5170.155979  \n",
              "university.degree    5163.226298  \n",
              "unknown              5159.549509  "
            ]
          },
          "metadata": {
            "tags": []
          },
          "execution_count": 536
        }
      ]
    },
    {
      "cell_type": "code",
      "metadata": {
        "id": "AebdVJCkeCy4",
        "colab_type": "code",
        "outputId": "f9d83c05-c49e-4887-9fb6-b5204d2de8c2",
        "colab": {
          "base_uri": "https://localhost:8080/",
          "height": 347
        }
      },
      "source": [
        "%matplotlib inline\n",
        "pd.crosstab(data.job,data.y).plot(kind='bar')\n",
        "plt.title('Purchase Frequency for Job Title')\n",
        "plt.xlabel('Job')\n",
        "plt.ylabel('Frequency of Purchase')\n",
        "plt.savefig('purchase_fre_job')"
      ],
      "execution_count": 0,
      "outputs": [
        {
          "output_type": "display_data",
          "data": {
            "image/png": "[encoded data removed]",
            "text/plain": [
              "<Figure size 432x288 with 1 Axes>"
            ]
          },
          "metadata": {
            "tags": []
          }
        }
      ]
    },
    {
      "cell_type": "code",
      "metadata": {
        "id": "Fi6PLZbPeEaB",
        "colab_type": "code",
        "outputId": "9c9ac1a5-a321-4fdc-edc1-3a09a930ed75",
        "colab": {
          "base_uri": "https://localhost:8080/",
          "height": 324
        }
      },
      "source": [
        "table=pd.crosstab(data.marital,data.y)\n",
        "table.div(table.sum(1).astype(float), axis=0).plot(kind='bar', stacked=True)\n",
        "plt.title('Stacked Bar Chart of Marital Status vs Purchase')\n",
        "plt.xlabel('Marital Status')\n",
        "plt.ylabel('Proportion of Customers')\n",
        "plt.savefig('mariral_vs_pur_stack')"
      ],
      "execution_count": 0,
      "outputs": [
        {
          "output_type": "display_data",
          "data": {
            "image/png": "[encoded data removed]",
            "text/plain": [
              "<Figure size 432x288 with 1 Axes>"
            ]
          },
          "metadata": {
            "tags": []
          }
        }
      ]
    },
    {
      "cell_type": "code",
      "metadata": {
        "id": "vYniTgVKeKWH",
        "colab_type": "code",
        "outputId": "985709cc-413f-464e-ec84-1a95ca238a48",
        "colab": {
          "base_uri": "https://localhost:8080/",
          "height": 371
        }
      },
      "source": [
        "table=pd.crosstab(data.education,data.y)\n",
        "table.div(table.sum(1).astype(float), axis=0).plot(kind='bar', stacked=True)\n",
        "plt.title('Stacked Bar Chart of Education vs Purchase')\n",
        "plt.xlabel('Education')\n",
        "plt.ylabel('Proportion of Customers')\n",
        "plt.savefig('edu_vs_pur_stack')"
      ],
      "execution_count": 0,
      "outputs": [
        {
          "output_type": "display_data",
          "data": {
            "image/png": "[encoded data removed]",
            "text/plain": [
              "<Figure size 432x288 with 1 Axes>"
            ]
          },
          "metadata": {
            "tags": []
          }
        }
      ]
    },
    {
      "cell_type": "code",
      "metadata": {
        "id": "uWRgezwueOWA",
        "colab_type": "code",
        "outputId": "d85b2dc5-ba7b-495a-e5d2-ad3a913e1dc8",
        "colab": {
          "base_uri": "https://localhost:8080/",
          "height": 304
        }
      },
      "source": [
        "pd.crosstab(data.day_of_week,data.y).plot(kind='bar')\n",
        "plt.title('Purchase Frequency for Day of Week')\n",
        "plt.xlabel('Day of Week')\n",
        "plt.ylabel('Frequency of Purchase')\n",
        "plt.savefig('pur_dayofweek_bar')"
      ],
      "execution_count": 0,
      "outputs": [
        {
          "output_type": "display_data",
          "data": {
            "image/png": "[encoded data removed]",
            "text/plain": [
              "<Figure size 432x288 with 1 Axes>"
            ]
          },
          "metadata": {
            "tags": []
          }
        }
      ]
    },
    {
      "cell_type": "code",
      "metadata": {
        "id": "hQRGQM-WeRx7",
        "colab_type": "code",
        "outputId": "d1010858-5c94-48b7-ff01-172e2f903a93",
        "colab": {
          "base_uri": "https://localhost:8080/",
          "height": 303
        }
      },
      "source": [
        "pd.crosstab(data.month,data.y).plot(kind='bar')\n",
        "plt.title('Purchase Frequency for Month')\n",
        "plt.xlabel('Month')\n",
        "plt.ylabel('Frequency of Purchase')\n",
        "plt.savefig('pur_fre_month_bar')"
      ],
      "execution_count": 0,
      "outputs": [
        {
          "output_type": "display_data",
          "data": {
            "image/png": "[encoded data removed]",
            "text/plain": [
              "<Figure size 432x288 with 1 Axes>"
            ]
          },
          "metadata": {
            "tags": []
          }
        }
      ]
    },
    {
      "cell_type": "code",
      "metadata": {
        "id": "rwN7aZzqeVDe",
        "colab_type": "code",
        "outputId": "00745e5e-f7dd-411a-e21c-9216620f7456",
        "colab": {
          "base_uri": "https://localhost:8080/",
          "height": 294
        }
      },
      "source": [
        "data.age.hist()\n",
        "plt.title('Histogram of Age')\n",
        "plt.xlabel('Age')\n",
        "plt.ylabel('Frequency')\n",
        "plt.savefig('hist_age')"
      ],
      "execution_count": 0,
      "outputs": [
        {
          "output_type": "display_data",
          "data": {
            "image/png": "[encoded data removed]",
            "text/plain": [
              "<Figure size 432x288 with 1 Axes>"
            ]
          },
          "metadata": {
            "tags": []
          }
        }
      ]
    },
    {
      "cell_type": "code",
      "metadata": {
        "id": "gyqQYVi0eZGl",
        "colab_type": "code",
        "outputId": "8d9bf9b0-bcd0-46dc-e3c8-8fdca142908f",
        "colab": {
          "base_uri": "https://localhost:8080/",
          "height": 336
        }
      },
      "source": [
        "pd.crosstab(data.poutcome,data.y).plot(kind='bar')\n",
        "plt.title('Purchase Frequency for Poutcome')\n",
        "plt.xlabel('Poutcome')\n",
        "plt.ylabel('Frequency of Purchase')\n",
        "plt.savefig('pur_fre_pout_bar')"
      ],
      "execution_count": 0,
      "outputs": [
        {
          "output_type": "display_data",
          "data": {
            "image/png": "[encoded data removed]",
            "text/plain": [
              "<Figure size 432x288 with 1 Axes>"
            ]
          },
          "metadata": {
            "tags": []
          }
        }
      ]
    },
    {
      "cell_type": "code",
      "metadata": {
        "id": "k0l2sFGyec87",
        "colab_type": "code",
        "outputId": "1adf8538-2074-4ff9-f596-e23526e298ed",
        "colab": {
          "base_uri": "https://localhost:8080/",
          "height": 255
        }
      },
      "source": [
        "data=pd.get_dummies(data,prefix=['job', 'marital', 'education', 'default', 'housing', 'loan', 'contact', 'month', 'day_of_week','poutcome'],columns=['job', 'marital', 'education', 'default', 'housing', 'loan', 'contact', 'month', 'day_of_week','poutcome'])\n",
        "data.head()"
      ],
      "execution_count": 0,
      "outputs": [
        {
          "output_type": "execute_result",
          "data": {
            "text/html": [
              "<div>\n",
              "<style scoped>\n",
              "    .dataframe tbody tr th:only-of-type {\n",
              "        vertical-align: middle;\n",
              "    }\n",
              "\n",
              "    .dataframe tbody tr th {\n",
              "        vertical-align: top;\n",
              "    }\n",
              "\n",
              "    .dataframe thead th {\n",
              "        text-align: right;\n",
              "    }\n",
              "</style>\n",
              "<table border=\"1\" class=\"dataframe\">\n",
              "  <thead>\n",
              "    <tr style=\"text-align: right;\">\n",
              "      <th></th>\n",
              "      <th>age</th>\n",
              "      <th>duration</th>\n",
              "      <th>campaign</th>\n",
              "      <th>pdays</th>\n",
              "      <th>previous</th>\n",
              "      <th>emp.var.rate</th>\n",
              "      <th>cons.price.idx</th>\n",
              "      <th>cons.conf.idx</th>\n",
              "      <th>euribor3m</th>\n",
              "      <th>nr.employed</th>\n",
              "      <th>...</th>\n",
              "      <th>month_oct</th>\n",
              "      <th>month_sep</th>\n",
              "      <th>day_of_week_fri</th>\n",
              "      <th>day_of_week_mon</th>\n",
              "      <th>day_of_week_thu</th>\n",
              "      <th>day_of_week_tue</th>\n",
              "      <th>day_of_week_wed</th>\n",
              "      <th>poutcome_failure</th>\n",
              "      <th>poutcome_nonexistent</th>\n",
              "      <th>poutcome_success</th>\n",
              "    </tr>\n",
              "  </thead>\n",
              "  <tbody>\n",
              "    <tr>\n",
              "      <th>0</th>\n",
              "      <td>56</td>\n",
              "      <td>261</td>\n",
              "      <td>1</td>\n",
              "      <td>999</td>\n",
              "      <td>0</td>\n",
              "      <td>1.1</td>\n",
              "      <td>93.994</td>\n",
              "      <td>-36.4</td>\n",
              "      <td>4.857</td>\n",
              "      <td>5191.0</td>\n",
              "      <td>...</td>\n",
              "      <td>0</td>\n",
              "      <td>0</td>\n",
              "      <td>0</td>\n",
              "      <td>1</td>\n",
              "      <td>0</td>\n",
              "      <td>0</td>\n",
              "      <td>0</td>\n",
              "      <td>0</td>\n",
              "      <td>1</td>\n",
              "      <td>0</td>\n",
              "    </tr>\n",
              "    <tr>\n",
              "      <th>1</th>\n",
              "      <td>57</td>\n",
              "      <td>149</td>\n",
              "      <td>1</td>\n",
              "      <td>999</td>\n",
              "      <td>0</td>\n",
              "      <td>1.1</td>\n",
              "      <td>93.994</td>\n",
              "      <td>-36.4</td>\n",
              "      <td>4.857</td>\n",
              "      <td>5191.0</td>\n",
              "      <td>...</td>\n",
              "      <td>0</td>\n",
              "      <td>0</td>\n",
              "      <td>0</td>\n",
              "      <td>1</td>\n",
              "      <td>0</td>\n",
              "      <td>0</td>\n",
              "      <td>0</td>\n",
              "      <td>0</td>\n",
              "      <td>1</td>\n",
              "      <td>0</td>\n",
              "    </tr>\n",
              "    <tr>\n",
              "      <th>2</th>\n",
              "      <td>37</td>\n",
              "      <td>226</td>\n",
              "      <td>1</td>\n",
              "      <td>999</td>\n",
              "      <td>0</td>\n",
              "      <td>1.1</td>\n",
              "      <td>93.994</td>\n",
              "      <td>-36.4</td>\n",
              "      <td>4.857</td>\n",
              "      <td>5191.0</td>\n",
              "      <td>...</td>\n",
              "      <td>0</td>\n",
              "      <td>0</td>\n",
              "      <td>0</td>\n",
              "      <td>1</td>\n",
              "      <td>0</td>\n",
              "      <td>0</td>\n",
              "      <td>0</td>\n",
              "      <td>0</td>\n",
              "      <td>1</td>\n",
              "      <td>0</td>\n",
              "    </tr>\n",
              "    <tr>\n",
              "      <th>3</th>\n",
              "      <td>40</td>\n",
              "      <td>151</td>\n",
              "      <td>1</td>\n",
              "      <td>999</td>\n",
              "      <td>0</td>\n",
              "      <td>1.1</td>\n",
              "      <td>93.994</td>\n",
              "      <td>-36.4</td>\n",
              "      <td>4.857</td>\n",
              "      <td>5191.0</td>\n",
              "      <td>...</td>\n",
              "      <td>0</td>\n",
              "      <td>0</td>\n",
              "      <td>0</td>\n",
              "      <td>1</td>\n",
              "      <td>0</td>\n",
              "      <td>0</td>\n",
              "      <td>0</td>\n",
              "      <td>0</td>\n",
              "      <td>1</td>\n",
              "      <td>0</td>\n",
              "    </tr>\n",
              "    <tr>\n",
              "      <th>4</th>\n",
              "      <td>56</td>\n",
              "      <td>307</td>\n",
              "      <td>1</td>\n",
              "      <td>999</td>\n",
              "      <td>0</td>\n",
              "      <td>1.1</td>\n",
              "      <td>93.994</td>\n",
              "      <td>-36.4</td>\n",
              "      <td>4.857</td>\n",
              "      <td>5191.0</td>\n",
              "      <td>...</td>\n",
              "      <td>0</td>\n",
              "      <td>0</td>\n",
              "      <td>0</td>\n",
              "      <td>1</td>\n",
              "      <td>0</td>\n",
              "      <td>0</td>\n",
              "      <td>0</td>\n",
              "      <td>0</td>\n",
              "      <td>1</td>\n",
              "      <td>0</td>\n",
              "    </tr>\n",
              "  </tbody>\n",
              "</table>\n",
              "<p>5 rows × 62 columns</p>\n",
              "</div>"
            ],
            "text/plain": [
              "   age  duration  campaign  pdays  previous  emp.var.rate  cons.price.idx  \\\n",
              "0   56       261         1    999         0           1.1          93.994   \n",
              "1   57       149         1    999         0           1.1          93.994   \n",
              "2   37       226         1    999         0           1.1          93.994   \n",
              "3   40       151         1    999         0           1.1          93.994   \n",
              "4   56       307         1    999         0           1.1          93.994   \n",
              "\n",
              "   cons.conf.idx  euribor3m  nr.employed        ...        month_oct  \\\n",
              "0          -36.4      4.857       5191.0        ...                0   \n",
              "1          -36.4      4.857       5191.0        ...                0   \n",
              "2          -36.4      4.857       5191.0        ...                0   \n",
              "3          -36.4      4.857       5191.0        ...                0   \n",
              "4          -36.4      4.857       5191.0        ...                0   \n",
              "\n",
              "   month_sep  day_of_week_fri  day_of_week_mon  day_of_week_thu  \\\n",
              "0          0                0                1                0   \n",
              "1          0                0                1                0   \n",
              "2          0                0                1                0   \n",
              "3          0                0                1                0   \n",
              "4          0                0                1                0   \n",
              "\n",
              "   day_of_week_tue  day_of_week_wed  poutcome_failure  poutcome_nonexistent  \\\n",
              "0                0                0                 0                     1   \n",
              "1                0                0                 0                     1   \n",
              "2                0                0                 0                     1   \n",
              "3                0                0                 0                     1   \n",
              "4                0                0                 0                     1   \n",
              "\n",
              "   poutcome_success  \n",
              "0                 0  \n",
              "1                 0  \n",
              "2                 0  \n",
              "3                 0  \n",
              "4                 0  \n",
              "\n",
              "[5 rows x 62 columns]"
            ]
          },
          "metadata": {
            "tags": []
          },
          "execution_count": 544
        }
      ]
    },
    {
      "cell_type": "code",
      "metadata": {
        "id": "s_acx6O4eirg",
        "colab_type": "code",
        "outputId": "18d450ca-3972-477c-ceaf-399d80fd818c",
        "colab": {
          "base_uri": "https://localhost:8080/",
          "height": 55
        }
      },
      "source": [
        "print(list(data.columns))"
      ],
      "execution_count": 0,
      "outputs": [
        {
          "output_type": "stream",
          "text": [
            "['age', 'duration', 'campaign', 'pdays', 'previous', 'emp.var.rate', 'cons.price.idx', 'cons.conf.idx', 'euribor3m', 'nr.employed', 'y', 'job_admin.', 'job_blue-collar', 'job_entrepreneur', 'job_housemaid', 'job_management', 'job_retired', 'job_self-employed', 'job_services', 'job_student', 'job_technician', 'job_unemployed', 'job_unknown', 'marital_divorced', 'marital_married', 'marital_single', 'marital_unknown', 'education_Basic', 'education_high.school', 'education_illiterate', 'education_professional.course', 'education_university.degree', 'education_unknown', 'default_no', 'default_unknown', 'default_yes', 'housing_no', 'housing_unknown', 'housing_yes', 'loan_no', 'loan_unknown', 'loan_yes', 'contact_cellular', 'contact_telephone', 'month_apr', 'month_aug', 'month_dec', 'month_jul', 'month_jun', 'month_mar', 'month_may', 'month_nov', 'month_oct', 'month_sep', 'day_of_week_fri', 'day_of_week_mon', 'day_of_week_thu', 'day_of_week_tue', 'day_of_week_wed', 'poutcome_failure', 'poutcome_nonexistent', 'poutcome_success']\n"
          ],
          "name": "stdout"
        }
      ]
    },
    {
      "cell_type": "code",
      "metadata": {
        "id": "1KTkFABuem4E",
        "colab_type": "code",
        "outputId": "87bd32dc-e786-4665-da52-61f16be84959",
        "colab": {
          "base_uri": "https://localhost:8080/",
          "height": 344
        }
      },
      "source": [
        "data.columns.values"
      ],
      "execution_count": 0,
      "outputs": [
        {
          "output_type": "execute_result",
          "data": {
            "text/plain": [
              "array(['age', 'duration', 'campaign', 'pdays', 'previous', 'emp.var.rate',\n",
              "       'cons.price.idx', 'cons.conf.idx', 'euribor3m', 'nr.employed', 'y',\n",
              "       'job_admin.', 'job_blue-collar', 'job_entrepreneur',\n",
              "       'job_housemaid', 'job_management', 'job_retired',\n",
              "       'job_self-employed', 'job_services', 'job_student',\n",
              "       'job_technician', 'job_unemployed', 'job_unknown',\n",
              "       'marital_divorced', 'marital_married', 'marital_single',\n",
              "       'marital_unknown', 'education_Basic', 'education_high.school',\n",
              "       'education_illiterate', 'education_professional.course',\n",
              "       'education_university.degree', 'education_unknown', 'default_no',\n",
              "       'default_unknown', 'default_yes', 'housing_no', 'housing_unknown',\n",
              "       'housing_yes', 'loan_no', 'loan_unknown', 'loan_yes',\n",
              "       'contact_cellular', 'contact_telephone', 'month_apr', 'month_aug',\n",
              "       'month_dec', 'month_jul', 'month_jun', 'month_mar', 'month_may',\n",
              "       'month_nov', 'month_oct', 'month_sep', 'day_of_week_fri',\n",
              "       'day_of_week_mon', 'day_of_week_thu', 'day_of_week_tue',\n",
              "       'day_of_week_wed', 'poutcome_failure', 'poutcome_nonexistent',\n",
              "       'poutcome_success'], dtype=object)"
            ]
          },
          "metadata": {
            "tags": []
          },
          "execution_count": 546
        }
      ]
    },
    {
      "cell_type": "code",
      "metadata": {
        "id": "xnrzYynUerJW",
        "colab_type": "code",
        "outputId": "7bf60899-79e9-4188-9558-99c549c06e92",
        "colab": {
          "base_uri": "https://localhost:8080/",
          "height": 341
        }
      },
      "source": [
        "y_count = data.y.value_counts()\n",
        "print('Class 0:', y_count[0])\n",
        "print('Class 1:', y_count[1])\n",
        "print('Proportion:', round(y_count[0] / y_count[1], 2), ': 1')\n",
        "\n",
        "y_count.plot(kind='bar', title='Count (y)');"
      ],
      "execution_count": 0,
      "outputs": [
        {
          "output_type": "stream",
          "text": [
            "Class 0: 36548\n",
            "Class 1: 4640\n",
            "Proportion: 7.88 : 1\n"
          ],
          "name": "stdout"
        },
        {
          "output_type": "display_data",
          "data": {
            "image/png": "[encoded data removed]",
            "text/plain": [
              "<Figure size 432x288 with 1 Axes>"
            ]
          },
          "metadata": {
            "tags": []
          }
        }
      ]
    },
    {
      "cell_type": "code",
      "metadata": {
        "id": "oN6eL4bMeu4e",
        "colab_type": "code",
        "colab": {}
      },
      "source": [
        "# Class count\n",
        "count_class_0, count_class_1 = data.y.value_counts()\n",
        "\n",
        "# Divide by class\n",
        "data_class_0 = data[data['y'] == 'no']\n",
        "data_class_1 = data[data['y'] == 'yes']"
      ],
      "execution_count": 0,
      "outputs": []
    },
    {
      "cell_type": "code",
      "metadata": {
        "id": "7o7A3gIXeyOz",
        "colab_type": "code",
        "outputId": "db835f43-4c76-45bc-ba66-00489e59fa87",
        "colab": {
          "base_uri": "https://localhost:8080/",
          "height": 359
        }
      },
      "source": [
        "data_class_1_over = data_class_1.sample(count_class_0,replace=True)\n",
        "data = pd.concat([data_class_0, data_class_1_over], axis=0)\n",
        "\n",
        "print('Random over-sampling:')\n",
        "print(data.y.value_counts())\n",
        "\n",
        "data.y.value_counts().plot(kind='bar', title='Count (y)');"
      ],
      "execution_count": 0,
      "outputs": [
        {
          "output_type": "stream",
          "text": [
            "Random over-sampling:\n",
            "yes    36548\n",
            "no     36548\n",
            "Name: y, dtype: int64\n"
          ],
          "name": "stdout"
        },
        {
          "output_type": "display_data",
          "data": {
            "image/png": "[encoded data removed]",
            "text/plain": [
              "<Figure size 432x288 with 1 Axes>"
            ]
          },
          "metadata": {
            "tags": []
          }
        }
      ]
    },
    {
      "cell_type": "code",
      "metadata": {
        "id": "byT87C0re8F8",
        "colab_type": "code",
        "outputId": "61f1bbc5-0429-4ac7-aeb3-d8137b28e1a4",
        "colab": {
          "base_uri": "https://localhost:8080/",
          "height": 341
        }
      },
      "source": [
        "y_count = data.y.value_counts()\n",
        "print('Class 0:', y_count[0])\n",
        "print('Class 1:', y_count[1])\n",
        "print('Proportion:', round(y_count[0] / y_count[1], 2), ': 1')\n",
        "\n",
        "y_count.plot(kind='bar', title='Count (y)');"
      ],
      "execution_count": 0,
      "outputs": [
        {
          "output_type": "stream",
          "text": [
            "Class 0: 36548\n",
            "Class 1: 36548\n",
            "Proportion: 1.0 : 1\n"
          ],
          "name": "stdout"
        },
        {
          "output_type": "display_data",
          "data": {
            "image/png": "[encoded data removed]",
            "text/plain": [
              "<Figure size 432x288 with 1 Axes>"
            ]
          },
          "metadata": {
            "tags": []
          }
        }
      ]
    },
    {
      "cell_type": "code",
      "metadata": {
        "id": "5eE5QtIffCew",
        "colab_type": "code",
        "colab": {}
      },
      "source": [
        "data['pdays']=np.where(data['pdays'] ==999, -1, data['pdays'])"
      ],
      "execution_count": 0,
      "outputs": []
    },
    {
      "cell_type": "code",
      "metadata": {
        "id": "aBLH4yu0QJi2",
        "colab_type": "code",
        "colab": {}
      },
      "source": [
        "#Importing librairies\n",
        "\n",
        "import pandas as pd \n",
        "import numpy as np\n",
        "\n",
        "# Scikit-learn library: For SVM\n",
        "from sklearn import preprocessing\n",
        "from sklearn.metrics import confusion_matrix\n",
        "from sklearn import svm\n",
        "\n",
        "import itertools\n",
        "\n",
        "# Matplotlib library to plot the charts\n",
        "import matplotlib.pyplot as plt\n",
        "import matplotlib.mlab as mlab\n",
        "\n",
        "# Library for the statistic data vizualisation\n",
        "import seaborn\n",
        "\n",
        "%matplotlib inline\n"
      ],
      "execution_count": 0,
      "outputs": []
    },
    {
      "cell_type": "code",
      "metadata": {
        "id": "04UX0KuZQhav",
        "colab_type": "code",
        "outputId": "4bc0ca21-950e-491d-9343-84d7c94e9c9e",
        "colab": {
          "base_uri": "https://localhost:8080/",
          "height": 740
        }
      },
      "source": [
        "df_corr = data.corr() # Calculation of the correlation coefficients in pairs, with the default method:\n",
        "                    # Pearson, Standard Correlation Coefficient\n",
        "\n",
        "plt.figure(figsize=(15,10))\n",
        "seaborn.heatmap(df_corr, cmap=\"YlGnBu\") # Displaying \n",
        "seaborn.set(font_scale=2,style='white')\n",
        "\n",
        "plt.title('correlation')\n",
        "plt.show()\n",
        "\n"
      ],
      "execution_count": 0,
      "outputs": [
        {
          "output_type": "display_data",
          "data": {
            "image/png": "[encoded data removed]",
            "text/plain": [
              "<Figure size 1080x720 with 2 Axes>"
            ]
          },
          "metadata": {
            "tags": []
          }
        }
      ]
    },
    {
      "cell_type": "code",
      "metadata": {
        "id": "UE3Q7pjefJRK",
        "colab_type": "code",
        "colab": {}
      },
      "source": [
        "#end_preprocessing"
      ],
      "execution_count": 0,
      "outputs": []
    },
    {
      "cell_type": "code",
      "metadata": {
        "id": "YT6mbCN2fOlN",
        "colab_type": "code",
        "colab": {}
      },
      "source": [
        "#col_to_use=['age', 'duration', 'campaign', 'pdays', 'previous', 'emp.var.rate', 'cons.price.idx', 'cons.conf.idx', 'euribor3m', 'nr.employed', 'job_admin.', 'job_blue-collar', 'job_entrepreneur', 'job_housemaid', 'job_management', 'job_retired', 'job_self-employed', 'job_services', 'job_student', 'job_technician', 'job_unemployed', 'job_unknown', 'marital_divorced', 'marital_married', 'marital_single', 'marital_unknown', 'education_Basic', 'education_high.school', 'education_illiterate', 'education_professional.course', 'education_university.degree', 'education_unknown', 'default_no', 'default_unknown', 'default_yes', 'housing_no', 'housing_unknown', 'housing_yes', 'loan_no', 'loan_unknown', 'loan_yes', 'contact_cellular', 'contact_telephone', 'month_apr', 'month_aug', 'month_dec', 'month_jul', 'month_jun', 'month_mar', 'month_may', 'month_nov', 'month_oct', 'day_of_week_fri', 'day_of_week_mon', 'day_of_week_thu', 'day_of_week_tue', 'day_of_week_wed', 'poutcome_failure', 'poutcome_nonexistent', 'poutcome_success']\n",
        "col_to_use = ['previous','euribor3m','job_blue-collar','job_management', 'job_retired','marital_single','education_high.school', 'education_unknown', 'default_no','housing_yes',\n",
        "              'loan_unknown','contact_telephone', 'month_apr', 'month_aug','month_jun', 'month_mar', 'month_may','poutcome_success', 'poutcome_failure']\n",
        "\n",
        "X=data[col_to_use]\n",
        "y=data.y"
      ],
      "execution_count": 0,
      "outputs": []
    },
    {
      "cell_type": "code",
      "metadata": {
        "id": "Gt_G7J06Y9Dw",
        "colab_type": "code",
        "outputId": "586d9f10-3140-4ed4-d103-fcd6abda8279",
        "colab": {
          "base_uri": "https://localhost:8080/",
          "height": 35
        }
      },
      "source": [
        "len(col_to_use)"
      ],
      "execution_count": 0,
      "outputs": [
        {
          "output_type": "execute_result",
          "data": {
            "text/plain": [
              "19"
            ]
          },
          "metadata": {
            "tags": []
          },
          "execution_count": 556
        }
      ]
    },
    {
      "cell_type": "code",
      "metadata": {
        "id": "W6LKgxgNhYdq",
        "colab_type": "code",
        "colab": {}
      },
      "source": [
        "#Test train split\n",
        "from sklearn.model_selection import train_test_split\n",
        "X_train,X_test,y_train,y_test = train_test_split(X,y,test_size=0.2)"
      ],
      "execution_count": 0,
      "outputs": []
    },
    {
      "cell_type": "code",
      "metadata": {
        "id": "BIjDV8x4hij4",
        "colab_type": "code",
        "outputId": "9d5e9466-9e10-4c6a-a5e9-3dcdb47084dd",
        "colab": {
          "base_uri": "https://localhost:8080/",
          "height": 146
        }
      },
      "source": [
        "#Standard scaling\n",
        "from sklearn.preprocessing import StandardScaler\n",
        "sc = StandardScaler()\n",
        "X_train = sc.fit_transform(X_train)\n",
        "X_test = sc.transform(X_test)"
      ],
      "execution_count": 0,
      "outputs": [
        {
          "output_type": "stream",
          "text": [
            "/usr/local/lib/python3.6/dist-packages/sklearn/preprocessing/data.py:645: DataConversionWarning: Data with input dtype uint8, int64, float64 were all converted to float64 by StandardScaler.\n",
            "  return self.partial_fit(X, y)\n",
            "/usr/local/lib/python3.6/dist-packages/sklearn/base.py:464: DataConversionWarning: Data with input dtype uint8, int64, float64 were all converted to float64 by StandardScaler.\n",
            "  return self.fit(X, **fit_params).transform(X)\n",
            "/usr/local/lib/python3.6/dist-packages/ipykernel_launcher.py:4: DataConversionWarning: Data with input dtype uint8, int64, float64 were all converted to float64 by StandardScaler.\n",
            "  after removing the cwd from sys.path.\n"
          ],
          "name": "stderr"
        }
      ]
    },
    {
      "cell_type": "code",
      "metadata": {
        "id": "LBZqiB4Ph6NL",
        "colab_type": "code",
        "outputId": "d061e48a-5e26-4919-be20-452c91468069",
        "colab": {
          "base_uri": "https://localhost:8080/",
          "height": 146
        }
      },
      "source": [
        "X_train,X_test,y_train,y_test = train_test_split(X,y,test_size=0.2)\n",
        "sc = StandardScaler()\n",
        "X_train = sc.fit_transform(X_train)\n",
        "X_test = sc.transform(X_test)"
      ],
      "execution_count": 0,
      "outputs": [
        {
          "output_type": "stream",
          "text": [
            "/usr/local/lib/python3.6/dist-packages/sklearn/preprocessing/data.py:645: DataConversionWarning: Data with input dtype uint8, int64, float64 were all converted to float64 by StandardScaler.\n",
            "  return self.partial_fit(X, y)\n",
            "/usr/local/lib/python3.6/dist-packages/sklearn/base.py:464: DataConversionWarning: Data with input dtype uint8, int64, float64 were all converted to float64 by StandardScaler.\n",
            "  return self.fit(X, **fit_params).transform(X)\n",
            "/usr/local/lib/python3.6/dist-packages/ipykernel_launcher.py:4: DataConversionWarning: Data with input dtype uint8, int64, float64 were all converted to float64 by StandardScaler.\n",
            "  after removing the cwd from sys.path.\n"
          ],
          "name": "stderr"
        }
      ]
    },
    {
      "cell_type": "code",
      "metadata": {
        "id": "FYUZutX39ksm",
        "colab_type": "code",
        "outputId": "eb3ddc49-741d-40f8-c2bb-a7d7a7cb0cfc",
        "colab": {
          "base_uri": "https://localhost:8080/",
          "height": 55
        }
      },
      "source": [
        "#Applying PCA here\n",
        "\"\"\"from sklearn.decomposition import PCA\n",
        "pca = PCA(n_components= 15) #We will set it none so that we can see the variance explained and then choose no of comp.\n",
        "X_train = pca.fit_transform(X_train)\n",
        "X_test = pca.transform(X_test)\"\"\""
      ],
      "execution_count": 0,
      "outputs": [
        {
          "output_type": "execute_result",
          "data": {
            "text/plain": [
              "'from sklearn.decomposition import PCA\\npca = PCA(n_components= 15) #We will set it none so that we can see the variance explained and then choose no of comp.\\nX_train = pca.fit_transform(X_train)\\nX_test = pca.transform(X_test)'"
            ]
          },
          "metadata": {
            "tags": []
          },
          "execution_count": 560
        }
      ]
    },
    {
      "cell_type": "code",
      "metadata": {
        "id": "Ue6IRkfwlNxZ",
        "colab_type": "code",
        "colab": {}
      },
      "source": [
        "#logistic regression "
      ],
      "execution_count": 0,
      "outputs": []
    },
    {
      "cell_type": "code",
      "metadata": {
        "id": "1B0JyTOIiTVV",
        "colab_type": "code",
        "colab": {}
      },
      "source": [
        "from sklearn.decomposition import PCA\n",
        "pca = PCA(n_components= 15) #We will set it none so that we can see the variance explained and then choose no of comp.\n",
        "X_train = pca.fit_transform(X_train)\n",
        "X_test = pca.transform(X_test)"
      ],
      "execution_count": 0,
      "outputs": []
    },
    {
      "cell_type": "code",
      "metadata": {
        "id": "o5URfDRJlm61",
        "colab_type": "code",
        "outputId": "16be933c-525b-44d3-f0b9-aa858ba86d02",
        "colab": {
          "base_uri": "https://localhost:8080/",
          "height": 146
        }
      },
      "source": [
        "# Create the classifier and train using training data\n",
        "from sklearn.linear_model import LogisticRegression\n",
        "classifier = LogisticRegression(random_state=0)\n",
        "classifier.fit(X_train,y_train)\n"
      ],
      "execution_count": 0,
      "outputs": [
        {
          "output_type": "stream",
          "text": [
            "/usr/local/lib/python3.6/dist-packages/sklearn/linear_model/logistic.py:433: FutureWarning: Default solver will be changed to 'lbfgs' in 0.22. Specify a solver to silence this warning.\n",
            "  FutureWarning)\n"
          ],
          "name": "stderr"
        },
        {
          "output_type": "execute_result",
          "data": {
            "text/plain": [
              "LogisticRegression(C=1.0, class_weight=None, dual=False, fit_intercept=True,\n",
              "          intercept_scaling=1, max_iter=100, multi_class='warn',\n",
              "          n_jobs=None, penalty='l2', random_state=0, solver='warn',\n",
              "          tol=0.0001, verbose=0, warm_start=False)"
            ]
          },
          "metadata": {
            "tags": []
          },
          "execution_count": 563
        }
      ]
    },
    {
      "cell_type": "code",
      "metadata": {
        "id": "PWFIrZD_lvPD",
        "colab_type": "code",
        "colab": {}
      },
      "source": [
        "#Predict the test set values\n",
        "y_pred = classifier.predict(X_test)\n"
      ],
      "execution_count": 0,
      "outputs": []
    },
    {
      "cell_type": "code",
      "metadata": {
        "id": "ftko8xwClzgz",
        "colab_type": "code",
        "outputId": "dd9d9904-1fe1-4f3a-b890-17a677fdd707",
        "colab": {
          "base_uri": "https://localhost:8080/",
          "height": 53
        }
      },
      "source": [
        "#Compute confusion matrix\n",
        "from sklearn.metrics import confusion_matrix\n",
        "cm = confusion_matrix(y_test,y_pred)\n",
        "cm"
      ],
      "execution_count": 0,
      "outputs": [
        {
          "output_type": "execute_result",
          "data": {
            "text/plain": [
              "array([[5909, 1415],\n",
              "       [2596, 4700]])"
            ]
          },
          "metadata": {
            "tags": []
          },
          "execution_count": 565
        }
      ]
    },
    {
      "cell_type": "code",
      "metadata": {
        "id": "H9JuF9zQl2n9",
        "colab_type": "code",
        "outputId": "11624f84-3f84-423c-f8e7-d3b78eb441db",
        "colab": {
          "base_uri": "https://localhost:8080/",
          "height": 90
        }
      },
      "source": [
        "print(\"the accuracy is : \"+str((cm[0][0]+cm[1][1]) / (sum(cm[0]) + sum(cm[1]))))\n",
        "print(\"the sensitivity or recall is : \"+str((cm[0][0]) / (cm[0][1]+cm[0][0])))\n",
        "print(\"the specificity  is : \"+str((cm[1][1]) / (cm[1][0]+cm[1][1])))\n",
        "print(\"the precision is : \"+str((cm[0][0]) / (cm[0][0]+cm[1][0])))"
      ],
      "execution_count": 0,
      "outputs": [
        {
          "output_type": "stream",
          "text": [
            "the accuracy is : 0.7256497948016416\n",
            "the sensitivity or recall is : 0.806799563080284\n",
            "the specificity  is : 0.6441885964912281\n",
            "the precision is : 0.6947677836566726\n"
          ],
          "name": "stdout"
        }
      ]
    },
    {
      "cell_type": "code",
      "metadata": {
        "id": "YGcONdNFaYkk",
        "colab_type": "code",
        "outputId": "dc2d0835-c1e9-41fa-da93-867dd4798d1e",
        "colab": {
          "base_uri": "https://localhost:8080/",
          "height": 35
        }
      },
      "source": [
        "precision=(cm[0][0]) / (cm[0][0]+cm[1][0])\n",
        "recall=(cm[0][0]) / (cm[0][1]+cm[0][0])\n",
        "F1 = 2 * (precision * recall) / (precision + recall)\n",
        "print(\"f1 score = \"+str(F1))"
      ],
      "execution_count": 0,
      "outputs": [
        {
          "output_type": "stream",
          "text": [
            "f1 score = 0.7466043338176765\n"
          ],
          "name": "stdout"
        }
      ]
    },
    {
      "cell_type": "code",
      "metadata": {
        "id": "zWd7EIUJh-1p",
        "colab_type": "code",
        "outputId": "d72b09f7-2464-4d77-faca-b632b03586c8",
        "colab": {
          "base_uri": "https://localhost:8080/",
          "height": 206
        }
      },
      "source": [
        "#Comparing the predictions with the actual results\n",
        "comparison = pd.DataFrame(y_test)\n",
        "comparison['y_predicted'] = y_pred\n",
        "comparison.head(5)"
      ],
      "execution_count": 0,
      "outputs": [
        {
          "output_type": "execute_result",
          "data": {
            "text/html": [
              "<div>\n",
              "<style scoped>\n",
              "    .dataframe tbody tr th:only-of-type {\n",
              "        vertical-align: middle;\n",
              "    }\n",
              "\n",
              "    .dataframe tbody tr th {\n",
              "        vertical-align: top;\n",
              "    }\n",
              "\n",
              "    .dataframe thead th {\n",
              "        text-align: right;\n",
              "    }\n",
              "</style>\n",
              "<table border=\"1\" class=\"dataframe\">\n",
              "  <thead>\n",
              "    <tr style=\"text-align: right;\">\n",
              "      <th></th>\n",
              "      <th>y</th>\n",
              "      <th>y_predicted</th>\n",
              "    </tr>\n",
              "  </thead>\n",
              "  <tbody>\n",
              "    <tr>\n",
              "      <th>37745</th>\n",
              "      <td>yes</td>\n",
              "      <td>yes</td>\n",
              "    </tr>\n",
              "    <tr>\n",
              "      <th>35307</th>\n",
              "      <td>no</td>\n",
              "      <td>yes</td>\n",
              "    </tr>\n",
              "    <tr>\n",
              "      <th>39277</th>\n",
              "      <td>yes</td>\n",
              "      <td>yes</td>\n",
              "    </tr>\n",
              "    <tr>\n",
              "      <th>2356</th>\n",
              "      <td>no</td>\n",
              "      <td>no</td>\n",
              "    </tr>\n",
              "    <tr>\n",
              "      <th>40977</th>\n",
              "      <td>yes</td>\n",
              "      <td>yes</td>\n",
              "    </tr>\n",
              "  </tbody>\n",
              "</table>\n",
              "</div>"
            ],
            "text/plain": [
              "         y y_predicted\n",
              "37745  yes         yes\n",
              "35307   no         yes\n",
              "39277  yes         yes\n",
              "2356    no          no\n",
              "40977  yes         yes"
            ]
          },
          "metadata": {
            "tags": []
          },
          "execution_count": 568
        }
      ]
    },
    {
      "cell_type": "code",
      "metadata": {
        "id": "d1yx2JZMmw27",
        "colab_type": "code",
        "colab": {}
      },
      "source": [
        "#other models"
      ],
      "execution_count": 0,
      "outputs": []
    },
    {
      "cell_type": "code",
      "metadata": {
        "id": "_ms5flCHQqd-",
        "colab_type": "code",
        "colab": {}
      },
      "source": [
        "data['y']=np.where(data['y'] =='yes', 1, data['y'])\n",
        "data['y']=np.where(data['y'] =='no', 0, data['y'])"
      ],
      "execution_count": 0,
      "outputs": []
    },
    {
      "cell_type": "code",
      "metadata": {
        "colab_type": "code",
        "id": "V1oKoCkwalKS",
        "colab": {}
      },
      "source": [
        "#col_to_use=['age', 'duration', 'campaign', 'pdays', 'previous', 'emp.var.rate', 'cons.price.idx', 'cons.conf.idx', 'euribor3m', 'nr.employed', 'job_admin.', 'job_blue-collar', 'job_entrepreneur', 'job_housemaid', 'job_management', 'job_retired', 'job_self-employed', 'job_services', 'job_student', 'job_technician', 'job_unemployed', 'job_unknown', 'marital_divorced', 'marital_married', 'marital_single', 'marital_unknown', 'education_Basic', 'education_high.school', 'education_illiterate', 'education_professional.course', 'education_university.degree', 'education_unknown', 'default_no', 'default_unknown', 'default_yes', 'housing_no', 'housing_unknown', 'housing_yes', 'loan_no', 'loan_unknown', 'loan_yes', 'contact_cellular', 'contact_telephone', 'month_apr', 'month_aug', 'month_dec', 'month_jul', 'month_jun', 'month_mar', 'month_may', 'month_nov', 'month_oct', 'day_of_week_fri', 'day_of_week_mon', 'day_of_week_thu', 'day_of_week_tue', 'day_of_week_wed', 'poutcome_failure', 'poutcome_nonexistent', 'poutcome_success']\n",
        "col_to_use = ['previous','euribor3m','job_blue-collar','job_management', 'job_retired','marital_single','education_high.school', 'education_unknown', 'default_no','housing_yes','loan_unknown','contact_telephone', 'month_apr', 'month_aug','month_jun', 'month_mar', 'month_may','poutcome_success', 'poutcome_failure']\n",
        "\n",
        "X=data[col_to_use]\n",
        "y=data.y"
      ],
      "execution_count": 0,
      "outputs": []
    },
    {
      "cell_type": "code",
      "metadata": {
        "colab_type": "code",
        "id": "9ULas5e5alK7",
        "colab": {}
      },
      "source": [
        "#Test train split\n",
        "from sklearn.model_selection import train_test_split\n",
        "X_train,X_test,y_train,y_test = train_test_split(X,y,test_size=0.2)"
      ],
      "execution_count": 0,
      "outputs": []
    },
    {
      "cell_type": "code",
      "metadata": {
        "colab_type": "code",
        "id": "6yts32YAalLJ",
        "outputId": "3f5a407a-4d71-47e9-a509-6f78f8e50d24",
        "colab": {
          "base_uri": "https://localhost:8080/",
          "height": 146
        }
      },
      "source": [
        "#Standard scaling\n",
        "from sklearn.preprocessing import StandardScaler\n",
        "sc = StandardScaler()\n",
        "X_train = sc.fit_transform(X_train)\n",
        "X_test = sc.transform(X_test)"
      ],
      "execution_count": 0,
      "outputs": [
        {
          "output_type": "stream",
          "text": [
            "/usr/local/lib/python3.6/dist-packages/sklearn/preprocessing/data.py:645: DataConversionWarning: Data with input dtype uint8, int64, float64 were all converted to float64 by StandardScaler.\n",
            "  return self.partial_fit(X, y)\n",
            "/usr/local/lib/python3.6/dist-packages/sklearn/base.py:464: DataConversionWarning: Data with input dtype uint8, int64, float64 were all converted to float64 by StandardScaler.\n",
            "  return self.fit(X, **fit_params).transform(X)\n",
            "/usr/local/lib/python3.6/dist-packages/ipykernel_launcher.py:4: DataConversionWarning: Data with input dtype uint8, int64, float64 were all converted to float64 by StandardScaler.\n",
            "  after removing the cwd from sys.path.\n"
          ],
          "name": "stderr"
        }
      ]
    },
    {
      "cell_type": "code",
      "metadata": {
        "id": "FSnLKCPWm0-c",
        "colab_type": "code",
        "colab": {}
      },
      "source": [
        "#LinearRegression"
      ],
      "execution_count": 0,
      "outputs": []
    },
    {
      "cell_type": "code",
      "metadata": {
        "colab_type": "code",
        "outputId": "11c4c9bf-c32f-4c19-d15c-b5fb8cd61eda",
        "id": "zVoCQ7DWY8u1",
        "colab": {
          "base_uri": "https://localhost:8080/",
          "height": 53
        }
      },
      "source": [
        "# Create the classifier and train using training data\n",
        "from sklearn.linear_model import LinearRegression\n",
        "clf = LinearRegression()\n",
        "clf.fit(X_train,y_train)\n"
      ],
      "execution_count": 0,
      "outputs": [
        {
          "output_type": "execute_result",
          "data": {
            "text/plain": [
              "LinearRegression(copy_X=True, fit_intercept=True, n_jobs=None,\n",
              "         normalize=False)"
            ]
          },
          "metadata": {
            "tags": []
          },
          "execution_count": 575
        }
      ]
    },
    {
      "cell_type": "code",
      "metadata": {
        "colab_type": "code",
        "id": "S98IYtQiY8vn",
        "colab": {}
      },
      "source": [
        "#Predict the test set values\n",
        "y_pred = clf.predict(X_test)\n"
      ],
      "execution_count": 0,
      "outputs": []
    },
    {
      "cell_type": "markdown",
      "metadata": {
        "id": "QmM4ivFpks5l",
        "colab_type": "text"
      },
      "source": [
        ""
      ]
    },
    {
      "cell_type": "code",
      "metadata": {
        "id": "1-GODfbCd59G",
        "colab_type": "code",
        "outputId": "53b3efaa-b887-47eb-f98e-e707454181a8",
        "colab": {
          "base_uri": "https://localhost:8080/",
          "height": 35
        }
      },
      "source": [
        "clf.score(X_test,y_test)"
      ],
      "execution_count": 0,
      "outputs": [
        {
          "output_type": "execute_result",
          "data": {
            "text/plain": [
              "0.2581867066317489"
            ]
          },
          "metadata": {
            "tags": []
          },
          "execution_count": 577
        }
      ]
    },
    {
      "cell_type": "code",
      "metadata": {
        "id": "uKPE2OVUfPMj",
        "colab_type": "code",
        "outputId": "0b6dc7c8-c05a-4979-bf17-a6f1c12e0bf3",
        "colab": {
          "base_uri": "https://localhost:8080/",
          "height": 35
        }
      },
      "source": [
        "from sklearn.metrics import mean_squared_error\n",
        "\n",
        "y_predict = clf.predict(X_test)\n",
        "\n",
        "mse = mean_squared_error(y_predict, y_test)\n",
        "\n",
        "mse"
      ],
      "execution_count": 0,
      "outputs": [
        {
          "output_type": "execute_result",
          "data": {
            "text/plain": [
              "0.18544998813152658"
            ]
          },
          "metadata": {
            "tags": []
          },
          "execution_count": 578
        }
      ]
    },
    {
      "cell_type": "code",
      "metadata": {
        "id": "WpUjw-C5fTBN",
        "colab_type": "code",
        "outputId": "3dccac9d-8df1-44a7-845c-12b0c94236b9",
        "colab": {
          "base_uri": "https://localhost:8080/",
          "height": 35
        }
      },
      "source": [
        "import math\n",
        "\n",
        "math.sqrt(mse)"
      ],
      "execution_count": 0,
      "outputs": [
        {
          "output_type": "execute_result",
          "data": {
            "text/plain": [
              "0.4306390462226185"
            ]
          },
          "metadata": {
            "tags": []
          },
          "execution_count": 579
        }
      ]
    },
    {
      "cell_type": "code",
      "metadata": {
        "id": "OBCuDyKNgG2N",
        "colab_type": "code",
        "colab": {}
      },
      "source": [
        "#Ridge\n"
      ],
      "execution_count": 0,
      "outputs": []
    },
    {
      "cell_type": "code",
      "metadata": {
        "colab_type": "code",
        "outputId": "f84fcb91-55a6-4621-c922-2bce499474fb",
        "id": "FVapMatDkB0T",
        "colab": {
          "base_uri": "https://localhost:8080/",
          "height": 53
        }
      },
      "source": [
        "# Create the classifier and train using training data\n",
        "from sklearn.linear_model import Ridge\n",
        "clf = Ridge(alpha = 1.0)\n",
        "clf.fit(X_train,y_train)\n"
      ],
      "execution_count": 0,
      "outputs": [
        {
          "output_type": "execute_result",
          "data": {
            "text/plain": [
              "Ridge(alpha=1.0, copy_X=True, fit_intercept=True, max_iter=None,\n",
              "   normalize=False, random_state=None, solver='auto', tol=0.001)"
            ]
          },
          "metadata": {
            "tags": []
          },
          "execution_count": 580
        }
      ]
    },
    {
      "cell_type": "code",
      "metadata": {
        "colab_type": "code",
        "id": "cwe6sZLJkB04",
        "colab": {}
      },
      "source": [
        "#Predict the test set values\n",
        "y_pred = clf.predict(X_test)\n"
      ],
      "execution_count": 0,
      "outputs": []
    },
    {
      "cell_type": "code",
      "metadata": {
        "colab_type": "code",
        "outputId": "4bc5e81c-b70e-465d-a13e-354f77ae6e1f",
        "id": "6lW8wa_FkB1A",
        "colab": {
          "base_uri": "https://localhost:8080/",
          "height": 35
        }
      },
      "source": [
        "clf.score(X_test,y_test)"
      ],
      "execution_count": 0,
      "outputs": [
        {
          "output_type": "execute_result",
          "data": {
            "text/plain": [
              "0.2581866880942384"
            ]
          },
          "metadata": {
            "tags": []
          },
          "execution_count": 582
        }
      ]
    },
    {
      "cell_type": "code",
      "metadata": {
        "colab_type": "code",
        "outputId": "dfd9c3f2-3335-4066-cea7-e8c52631eea4",
        "id": "kzL9CK7nkB1P",
        "colab": {
          "base_uri": "https://localhost:8080/",
          "height": 35
        }
      },
      "source": [
        "from sklearn.metrics import mean_squared_error\n",
        "\n",
        "y_predict = clf.predict(X_test)\n",
        "\n",
        "mse = mean_squared_error(y_predict, y_test)\n",
        "\n",
        "mse"
      ],
      "execution_count": 0,
      "outputs": [
        {
          "output_type": "execute_result",
          "data": {
            "text/plain": [
              "0.1854499927658209"
            ]
          },
          "metadata": {
            "tags": []
          },
          "execution_count": 583
        }
      ]
    },
    {
      "cell_type": "code",
      "metadata": {
        "colab_type": "code",
        "outputId": "1c53eda3-b463-4a59-d329-47468ce65762",
        "id": "4b0TcVSHkB1Y",
        "colab": {
          "base_uri": "https://localhost:8080/",
          "height": 35
        }
      },
      "source": [
        "import math\n",
        "\n",
        "math.sqrt(mse)"
      ],
      "execution_count": 0,
      "outputs": [
        {
          "output_type": "execute_result",
          "data": {
            "text/plain": [
              "0.4306390516033362"
            ]
          },
          "metadata": {
            "tags": []
          },
          "execution_count": 584
        }
      ]
    },
    {
      "cell_type": "code",
      "metadata": {
        "id": "YqyJ-AVpkHKc",
        "colab_type": "code",
        "colab": {}
      },
      "source": [
        "#Lasso"
      ],
      "execution_count": 0,
      "outputs": []
    },
    {
      "cell_type": "code",
      "metadata": {
        "colab_type": "code",
        "outputId": "cab49298-1caa-40e3-f560-36af6d289c3e",
        "id": "n-O12xAbkIzE",
        "colab": {
          "base_uri": "https://localhost:8080/",
          "height": 72
        }
      },
      "source": [
        "# Create the classifier and train using training data\n",
        "from sklearn.linear_model import Lasso\n",
        "clf = Lasso()\n",
        "clf.fit(X_train,y_train)\n"
      ],
      "execution_count": 0,
      "outputs": [
        {
          "output_type": "execute_result",
          "data": {
            "text/plain": [
              "Lasso(alpha=1.0, copy_X=True, fit_intercept=True, max_iter=1000,\n",
              "   normalize=False, positive=False, precompute=False, random_state=None,\n",
              "   selection='cyclic', tol=0.0001, warm_start=False)"
            ]
          },
          "metadata": {
            "tags": []
          },
          "execution_count": 586
        }
      ]
    },
    {
      "cell_type": "code",
      "metadata": {
        "colab_type": "code",
        "id": "8WDblCWWkIzz",
        "colab": {}
      },
      "source": [
        "#Predict the test set values\n",
        "y_pred = clf.predict(X_test)\n"
      ],
      "execution_count": 0,
      "outputs": []
    },
    {
      "cell_type": "code",
      "metadata": {
        "colab_type": "code",
        "outputId": "bbea1ace-44ec-45ff-9645-aa6916ca6b35",
        "id": "p6W9SMe3kIz7",
        "colab": {
          "base_uri": "https://localhost:8080/",
          "height": 35
        }
      },
      "source": [
        "clf.score(X_test,y_test)"
      ],
      "execution_count": 0,
      "outputs": [
        {
          "output_type": "execute_result",
          "data": {
            "text/plain": [
              "-2.8101425646243072e-05"
            ]
          },
          "metadata": {
            "tags": []
          },
          "execution_count": 588
        }
      ]
    },
    {
      "cell_type": "code",
      "metadata": {
        "colab_type": "code",
        "outputId": "a3232c37-893e-430e-a202-9a3b27c2ef47",
        "id": "3c98SGYSkI0H",
        "colab": {
          "base_uri": "https://localhost:8080/",
          "height": 35
        }
      },
      "source": [
        "from sklearn.metrics import mean_squared_error\n",
        "\n",
        "y_predict = clf.predict(X_test)\n",
        "\n",
        "mse = mean_squared_error(y_predict, y_test)\n",
        "\n",
        "mse"
      ],
      "execution_count": 0,
      "outputs": [
        {
          "output_type": "execute_result",
          "data": {
            "text/plain": [
              "0.25000252920584354"
            ]
          },
          "metadata": {
            "tags": []
          },
          "execution_count": 589
        }
      ]
    },
    {
      "cell_type": "code",
      "metadata": {
        "colab_type": "code",
        "outputId": "d1119bb8-9db4-47b1-96d0-ddaa3efe5e4d",
        "id": "sq8tnVvrkI0U",
        "colab": {
          "base_uri": "https://localhost:8080/",
          "height": 35
        }
      },
      "source": [
        "import math\n",
        "\n",
        "math.sqrt(mse)"
      ],
      "execution_count": 0,
      "outputs": [
        {
          "output_type": "execute_result",
          "data": {
            "text/plain": [
              "0.5000025291994467"
            ]
          },
          "metadata": {
            "tags": []
          },
          "execution_count": 590
        }
      ]
    },
    {
      "cell_type": "code",
      "metadata": {
        "id": "KjMlyVzBkMAW",
        "colab_type": "code",
        "colab": {}
      },
      "source": [
        "#ElasticNet"
      ],
      "execution_count": 0,
      "outputs": []
    },
    {
      "cell_type": "code",
      "metadata": {
        "colab_type": "code",
        "outputId": "2ffa5737-6791-4a68-bd19-8d7b5d3741bf",
        "id": "hQh_v9KPkRl8",
        "colab": {
          "base_uri": "https://localhost:8080/",
          "height": 72
        }
      },
      "source": [
        "# Create the classifier and train using training data\n",
        "from sklearn.linear_model import ElasticNet\n",
        "clf = ElasticNet()\n",
        "clf.fit(X_train,y_train)\n"
      ],
      "execution_count": 0,
      "outputs": [
        {
          "output_type": "execute_result",
          "data": {
            "text/plain": [
              "ElasticNet(alpha=1.0, copy_X=True, fit_intercept=True, l1_ratio=0.5,\n",
              "      max_iter=1000, normalize=False, positive=False, precompute=False,\n",
              "      random_state=None, selection='cyclic', tol=0.0001, warm_start=False)"
            ]
          },
          "metadata": {
            "tags": []
          },
          "execution_count": 592
        }
      ]
    },
    {
      "cell_type": "code",
      "metadata": {
        "colab_type": "code",
        "id": "b9UTyVyEkRmp",
        "colab": {}
      },
      "source": [
        "#Predict the test set values\n",
        "y_pred = clf.predict(X_test)\n"
      ],
      "execution_count": 0,
      "outputs": []
    },
    {
      "cell_type": "code",
      "metadata": {
        "colab_type": "code",
        "outputId": "a634cdb1-b972-4f11-d5be-9de95ab0e884",
        "id": "Eakk2DBTkRmz",
        "colab": {
          "base_uri": "https://localhost:8080/",
          "height": 35
        }
      },
      "source": [
        "clf.score(X_test,y_test)"
      ],
      "execution_count": 0,
      "outputs": [
        {
          "output_type": "execute_result",
          "data": {
            "text/plain": [
              "-2.8101425646243072e-05"
            ]
          },
          "metadata": {
            "tags": []
          },
          "execution_count": 594
        }
      ]
    },
    {
      "cell_type": "code",
      "metadata": {
        "colab_type": "code",
        "outputId": "ed5d8201-d659-4a3e-9149-b4447d3190eb",
        "id": "k6aW55LhkRnA",
        "colab": {
          "base_uri": "https://localhost:8080/",
          "height": 35
        }
      },
      "source": [
        "from sklearn.metrics import mean_squared_error\n",
        "\n",
        "y_predict = clf.predict(X_test)\n",
        "\n",
        "mse = mean_squared_error(y_predict, y_test)\n",
        "\n",
        "mse"
      ],
      "execution_count": 0,
      "outputs": [
        {
          "output_type": "execute_result",
          "data": {
            "text/plain": [
              "0.25000252920584354"
            ]
          },
          "metadata": {
            "tags": []
          },
          "execution_count": 595
        }
      ]
    },
    {
      "cell_type": "code",
      "metadata": {
        "colab_type": "code",
        "outputId": "3857d596-e68d-402b-fbfa-d06ad00bc028",
        "id": "06QFW3nAkRnJ",
        "colab": {
          "base_uri": "https://localhost:8080/",
          "height": 35
        }
      },
      "source": [
        "import math\n",
        "\n",
        "math.sqrt(mse)"
      ],
      "execution_count": 0,
      "outputs": [
        {
          "output_type": "execute_result",
          "data": {
            "text/plain": [
              "0.5000025291994467"
            ]
          },
          "metadata": {
            "tags": []
          },
          "execution_count": 596
        }
      ]
    },
    {
      "cell_type": "code",
      "metadata": {
        "id": "WHfYiTpTkTpC",
        "colab_type": "code",
        "colab": {}
      },
      "source": [
        ""
      ],
      "execution_count": 0,
      "outputs": []
    }
  ]
}